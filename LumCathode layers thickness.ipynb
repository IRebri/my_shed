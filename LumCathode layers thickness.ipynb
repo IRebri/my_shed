{
 "cells": [
  {
   "cell_type": "code",
   "execution_count": 1,
   "metadata": {},
   "outputs": [],
   "source": [
    "import pandas as pd\n",
    "import numpy as np\n",
    "import matplotlib.pyplot as plt"
   ]
  },
  {
   "cell_type": "code",
   "execution_count": 2,
   "metadata": {},
   "outputs": [],
   "source": [
    "filename = \"data.txt\"\n",
    "\n",
    "data = pd.read_csv(filename, sep='\\t', header=None, names = [\"pressure, kPa\", \"Thickness, mm\"], dtype = {'pressure, kPa':np.str, \"Thickness, mm\":np.str})"
   ]
  },
  {
   "cell_type": "code",
   "execution_count": 3,
   "metadata": {},
   "outputs": [],
   "source": [
    "data['pressure, kPa'] = data['pressure, kPa'].astype('str') \n",
    "data['pressure, kPa'] = data['pressure, kPa'].str.replace(',','.')\n",
    "data[\"Thickness, mm\"] = data[\"Thickness, mm\"].astype('str') \n",
    "data[\"Thickness, mm\"] = data[\"Thickness, mm\"].str.replace(',','.')\n",
    "\n"
   ]
  },
  {
   "cell_type": "code",
   "execution_count": 4,
   "metadata": {},
   "outputs": [],
   "source": [
    "data['pressure, kPa'] = pd.to_numeric(data['pressure, kPa'])\n",
    "data[\"Thickness, mm\"] = pd.to_numeric(data[\"Thickness, mm\"])"
   ]
  },
  {
   "cell_type": "code",
   "execution_count": 5,
   "metadata": {},
   "outputs": [
    {
     "data": {
      "text/html": [
       "<div>\n",
       "<style scoped>\n",
       "    .dataframe tbody tr th:only-of-type {\n",
       "        vertical-align: middle;\n",
       "    }\n",
       "\n",
       "    .dataframe tbody tr th {\n",
       "        vertical-align: top;\n",
       "    }\n",
       "\n",
       "    .dataframe thead th {\n",
       "        text-align: right;\n",
       "    }\n",
       "</style>\n",
       "<table border=\"1\" class=\"dataframe\">\n",
       "  <thead>\n",
       "    <tr style=\"text-align: right;\">\n",
       "      <th></th>\n",
       "      <th>pressure, kPa</th>\n",
       "      <th>Thickness, mm</th>\n",
       "    </tr>\n",
       "  </thead>\n",
       "  <tbody>\n",
       "    <tr>\n",
       "      <td>0</td>\n",
       "      <td>0.80</td>\n",
       "      <td>2.443866</td>\n",
       "    </tr>\n",
       "    <tr>\n",
       "      <td>1</td>\n",
       "      <td>0.80</td>\n",
       "      <td>2.835245</td>\n",
       "    </tr>\n",
       "    <tr>\n",
       "      <td>2</td>\n",
       "      <td>1.00</td>\n",
       "      <td>2.404647</td>\n",
       "    </tr>\n",
       "    <tr>\n",
       "      <td>3</td>\n",
       "      <td>1.62</td>\n",
       "      <td>1.530678</td>\n",
       "    </tr>\n",
       "    <tr>\n",
       "      <td>4</td>\n",
       "      <td>1.62</td>\n",
       "      <td>1.345380</td>\n",
       "    </tr>\n",
       "    <tr>\n",
       "      <td>5</td>\n",
       "      <td>1.62</td>\n",
       "      <td>1.427326</td>\n",
       "    </tr>\n",
       "    <tr>\n",
       "      <td>6</td>\n",
       "      <td>1.62</td>\n",
       "      <td>1.402286</td>\n",
       "    </tr>\n",
       "    <tr>\n",
       "      <td>7</td>\n",
       "      <td>1.62</td>\n",
       "      <td>1.545898</td>\n",
       "    </tr>\n",
       "    <tr>\n",
       "      <td>8</td>\n",
       "      <td>2.00</td>\n",
       "      <td>1.232955</td>\n",
       "    </tr>\n",
       "    <tr>\n",
       "      <td>9</td>\n",
       "      <td>2.00</td>\n",
       "      <td>1.077796</td>\n",
       "    </tr>\n",
       "    <tr>\n",
       "      <td>10</td>\n",
       "      <td>2.50</td>\n",
       "      <td>1.066096</td>\n",
       "    </tr>\n",
       "    <tr>\n",
       "      <td>11</td>\n",
       "      <td>2.50</td>\n",
       "      <td>1.283271</td>\n",
       "    </tr>\n",
       "    <tr>\n",
       "      <td>12</td>\n",
       "      <td>3.00</td>\n",
       "      <td>0.941065</td>\n",
       "    </tr>\n",
       "    <tr>\n",
       "      <td>13</td>\n",
       "      <td>3.00</td>\n",
       "      <td>0.808364</td>\n",
       "    </tr>\n",
       "    <tr>\n",
       "      <td>14</td>\n",
       "      <td>3.50</td>\n",
       "      <td>0.808364</td>\n",
       "    </tr>\n",
       "    <tr>\n",
       "      <td>15</td>\n",
       "      <td>4.00</td>\n",
       "      <td>0.968621</td>\n",
       "    </tr>\n",
       "    <tr>\n",
       "      <td>16</td>\n",
       "      <td>4.95</td>\n",
       "      <td>0.702621</td>\n",
       "    </tr>\n",
       "    <tr>\n",
       "      <td>17</td>\n",
       "      <td>4.95</td>\n",
       "      <td>0.696870</td>\n",
       "    </tr>\n",
       "    <tr>\n",
       "      <td>18</td>\n",
       "      <td>5.50</td>\n",
       "      <td>0.645054</td>\n",
       "    </tr>\n",
       "    <tr>\n",
       "      <td>19</td>\n",
       "      <td>5.50</td>\n",
       "      <td>0.635244</td>\n",
       "    </tr>\n",
       "    <tr>\n",
       "      <td>20</td>\n",
       "      <td>5.97</td>\n",
       "      <td>0.618178</td>\n",
       "    </tr>\n",
       "    <tr>\n",
       "      <td>21</td>\n",
       "      <td>6.40</td>\n",
       "      <td>0.635481</td>\n",
       "    </tr>\n",
       "    <tr>\n",
       "      <td>22</td>\n",
       "      <td>6.40</td>\n",
       "      <td>0.597156</td>\n",
       "    </tr>\n",
       "    <tr>\n",
       "      <td>23</td>\n",
       "      <td>6.95</td>\n",
       "      <td>0.557898</td>\n",
       "    </tr>\n",
       "    <tr>\n",
       "      <td>24</td>\n",
       "      <td>6.95</td>\n",
       "      <td>0.551540</td>\n",
       "    </tr>\n",
       "    <tr>\n",
       "      <td>25</td>\n",
       "      <td>7.40</td>\n",
       "      <td>0.523723</td>\n",
       "    </tr>\n",
       "    <tr>\n",
       "      <td>26</td>\n",
       "      <td>8.10</td>\n",
       "      <td>0.501985</td>\n",
       "    </tr>\n",
       "    <tr>\n",
       "      <td>27</td>\n",
       "      <td>8.50</td>\n",
       "      <td>0.518315</td>\n",
       "    </tr>\n",
       "    <tr>\n",
       "      <td>28</td>\n",
       "      <td>8.50</td>\n",
       "      <td>0.516040</td>\n",
       "    </tr>\n",
       "    <tr>\n",
       "      <td>29</td>\n",
       "      <td>9.10</td>\n",
       "      <td>0.574267</td>\n",
       "    </tr>\n",
       "    <tr>\n",
       "      <td>30</td>\n",
       "      <td>9.50</td>\n",
       "      <td>0.582379</td>\n",
       "    </tr>\n",
       "    <tr>\n",
       "      <td>31</td>\n",
       "      <td>10.03</td>\n",
       "      <td>0.429710</td>\n",
       "    </tr>\n",
       "  </tbody>\n",
       "</table>\n",
       "</div>"
      ],
      "text/plain": [
       "    pressure, kPa  Thickness, mm\n",
       "0            0.80       2.443866\n",
       "1            0.80       2.835245\n",
       "2            1.00       2.404647\n",
       "3            1.62       1.530678\n",
       "4            1.62       1.345380\n",
       "5            1.62       1.427326\n",
       "6            1.62       1.402286\n",
       "7            1.62       1.545898\n",
       "8            2.00       1.232955\n",
       "9            2.00       1.077796\n",
       "10           2.50       1.066096\n",
       "11           2.50       1.283271\n",
       "12           3.00       0.941065\n",
       "13           3.00       0.808364\n",
       "14           3.50       0.808364\n",
       "15           4.00       0.968621\n",
       "16           4.95       0.702621\n",
       "17           4.95       0.696870\n",
       "18           5.50       0.645054\n",
       "19           5.50       0.635244\n",
       "20           5.97       0.618178\n",
       "21           6.40       0.635481\n",
       "22           6.40       0.597156\n",
       "23           6.95       0.557898\n",
       "24           6.95       0.551540\n",
       "25           7.40       0.523723\n",
       "26           8.10       0.501985\n",
       "27           8.50       0.518315\n",
       "28           8.50       0.516040\n",
       "29           9.10       0.574267\n",
       "30           9.50       0.582379\n",
       "31          10.03       0.429710"
      ]
     },
     "execution_count": 5,
     "metadata": {},
     "output_type": "execute_result"
    }
   ],
   "source": [
    "data"
   ]
  },
  {
   "cell_type": "code",
   "execution_count": 6,
   "metadata": {},
   "outputs": [
    {
     "data": {
      "text/plain": [
       "<matplotlib.axes._subplots.AxesSubplot at 0x7fd9eaeba350>"
      ]
     },
     "execution_count": 6,
     "metadata": {},
     "output_type": "execute_result"
    },
    {
     "data": {
      "image/png": "[encoded data removed]",
      "text/plain": [
       "<Figure size 432x288 with 1 Axes>"
      ]
     },
     "metadata": {
      "needs_background": "light"
     },
     "output_type": "display_data"
    }
   ],
   "source": [
    "data.plot()"
   ]
  },
  {
   "cell_type": "code",
   "execution_count": 7,
   "metadata": {},
   "outputs": [
    {
     "data": {
      "text/plain": [
       "array([2.44386597, 2.83524517, 2.40464683, 1.53067843, 1.34537978,\n",
       "       1.42732645, 1.40228563, 1.54589754, 1.23295464, 1.07779618,\n",
       "       1.06609627, 1.28327063, 0.94106512, 0.80836397, 0.80836397,\n",
       "       0.96862071, 0.70262087, 0.69687019, 0.6450537 , 0.63524377,\n",
       "       0.61817768, 0.63548073, 0.59715609, 0.55789781, 0.55154   ,\n",
       "       0.5237232 , 0.50198506, 0.5183147 , 0.51604006, 0.57426742,\n",
       "       0.58237949, 0.4297101 ])"
      ]
     },
     "execution_count": 7,
     "metadata": {},
     "output_type": "execute_result"
    }
   ],
   "source": [
    "data[\"Thickness, mm\"].values"
   ]
  },
  {
   "cell_type": "code",
   "execution_count": 8,
   "metadata": {},
   "outputs": [
    {
     "data": {
      "text/plain": [
       "[<matplotlib.lines.Line2D at 0x7fd9ea293250>]"
      ]
     },
     "execution_count": 8,
     "metadata": {},
     "output_type": "execute_result"
    },
    {
     "data": {
      "image/png": "[encoded data removed]",
      "text/plain": [
       "<Figure size 432x288 with 1 Axes>"
      ]
     },
     "metadata": {
      "needs_background": "light"
     },
     "output_type": "display_data"
    }
   ],
   "source": [
    "plt.plot(data['pressure, kPa'].values, data[\"Thickness, mm\"].values, \"-o\")\n",
    "# data['pressure, kPa'] = data['pressure, kPa'].str.replace(',','.')\n",
    "# data[\"Thickness, mm\"] = data[\"Thickness, mm\"].astype('str')"
   ]
  },
  {
   "cell_type": "code",
   "execution_count": 9,
   "metadata": {},
   "outputs": [
    {
     "data": {
      "text/html": [
       "<div>\n",
       "<style scoped>\n",
       "    .dataframe tbody tr th:only-of-type {\n",
       "        vertical-align: middle;\n",
       "    }\n",
       "\n",
       "    .dataframe tbody tr th {\n",
       "        vertical-align: top;\n",
       "    }\n",
       "\n",
       "    .dataframe thead th {\n",
       "        text-align: right;\n",
       "    }\n",
       "</style>\n",
       "<table border=\"1\" class=\"dataframe\">\n",
       "  <thead>\n",
       "    <tr style=\"text-align: right;\">\n",
       "      <th></th>\n",
       "      <th>pressure, kPa</th>\n",
       "      <th>Thickness, mm</th>\n",
       "    </tr>\n",
       "  </thead>\n",
       "  <tbody>\n",
       "    <tr>\n",
       "      <td>0</td>\n",
       "      <td>0.80</td>\n",
       "      <td>2.639556</td>\n",
       "    </tr>\n",
       "    <tr>\n",
       "      <td>1</td>\n",
       "      <td>1.00</td>\n",
       "      <td>2.404647</td>\n",
       "    </tr>\n",
       "    <tr>\n",
       "      <td>2</td>\n",
       "      <td>1.62</td>\n",
       "      <td>1.450314</td>\n",
       "    </tr>\n",
       "    <tr>\n",
       "      <td>3</td>\n",
       "      <td>2.00</td>\n",
       "      <td>1.155375</td>\n",
       "    </tr>\n",
       "    <tr>\n",
       "      <td>4</td>\n",
       "      <td>2.50</td>\n",
       "      <td>1.174683</td>\n",
       "    </tr>\n",
       "    <tr>\n",
       "      <td>5</td>\n",
       "      <td>3.00</td>\n",
       "      <td>0.874715</td>\n",
       "    </tr>\n",
       "    <tr>\n",
       "      <td>6</td>\n",
       "      <td>3.50</td>\n",
       "      <td>0.808364</td>\n",
       "    </tr>\n",
       "    <tr>\n",
       "      <td>7</td>\n",
       "      <td>4.00</td>\n",
       "      <td>0.968621</td>\n",
       "    </tr>\n",
       "    <tr>\n",
       "      <td>8</td>\n",
       "      <td>4.95</td>\n",
       "      <td>0.699746</td>\n",
       "    </tr>\n",
       "    <tr>\n",
       "      <td>9</td>\n",
       "      <td>5.50</td>\n",
       "      <td>0.640149</td>\n",
       "    </tr>\n",
       "    <tr>\n",
       "      <td>10</td>\n",
       "      <td>5.97</td>\n",
       "      <td>0.618178</td>\n",
       "    </tr>\n",
       "    <tr>\n",
       "      <td>11</td>\n",
       "      <td>6.40</td>\n",
       "      <td>0.616318</td>\n",
       "    </tr>\n",
       "    <tr>\n",
       "      <td>12</td>\n",
       "      <td>6.95</td>\n",
       "      <td>0.554719</td>\n",
       "    </tr>\n",
       "    <tr>\n",
       "      <td>13</td>\n",
       "      <td>7.40</td>\n",
       "      <td>0.523723</td>\n",
       "    </tr>\n",
       "    <tr>\n",
       "      <td>14</td>\n",
       "      <td>8.10</td>\n",
       "      <td>0.501985</td>\n",
       "    </tr>\n",
       "    <tr>\n",
       "      <td>15</td>\n",
       "      <td>8.50</td>\n",
       "      <td>0.517177</td>\n",
       "    </tr>\n",
       "    <tr>\n",
       "      <td>16</td>\n",
       "      <td>9.10</td>\n",
       "      <td>0.574267</td>\n",
       "    </tr>\n",
       "    <tr>\n",
       "      <td>17</td>\n",
       "      <td>9.50</td>\n",
       "      <td>0.582379</td>\n",
       "    </tr>\n",
       "    <tr>\n",
       "      <td>18</td>\n",
       "      <td>10.03</td>\n",
       "      <td>0.429710</td>\n",
       "    </tr>\n",
       "  </tbody>\n",
       "</table>\n",
       "</div>"
      ],
      "text/plain": [
       "    pressure, kPa  Thickness, mm\n",
       "0            0.80       2.639556\n",
       "1            1.00       2.404647\n",
       "2            1.62       1.450314\n",
       "3            2.00       1.155375\n",
       "4            2.50       1.174683\n",
       "5            3.00       0.874715\n",
       "6            3.50       0.808364\n",
       "7            4.00       0.968621\n",
       "8            4.95       0.699746\n",
       "9            5.50       0.640149\n",
       "10           5.97       0.618178\n",
       "11           6.40       0.616318\n",
       "12           6.95       0.554719\n",
       "13           7.40       0.523723\n",
       "14           8.10       0.501985\n",
       "15           8.50       0.517177\n",
       "16           9.10       0.574267\n",
       "17           9.50       0.582379\n",
       "18          10.03       0.429710"
      ]
     },
     "execution_count": 9,
     "metadata": {},
     "output_type": "execute_result"
    }
   ],
   "source": [
    "df=data.groupby(['pressure, kPa']).agg({\"Thickness, mm\":\"mean\"}).reset_index().copy()\n",
    "df"
   ]
  },
  {
   "cell_type": "code",
   "execution_count": 10,
   "metadata": {},
   "outputs": [
    {
     "data": {
      "text/plain": [
       "Text(0.5, 1.0, 'LumCathode layers thickness mm')"
      ]
     },
     "execution_count": 10,
     "metadata": {},
     "output_type": "execute_result"
    },
    {
     "data": {
      "image/png": "[encoded data removed]",
      "text/plain": [
       "<Figure size 1080x720 with 1 Axes>"
      ]
     },
     "metadata": {
      "needs_background": "light"
     },
     "output_type": "display_data"
    }
   ],
   "source": [
    "plt.subplots(figsize=(15,10))\n",
    "# plt.title('LumCathode layers thickness mm')\n",
    "plt.plot(df['pressure, kPa'].values, df[\"Thickness, mm\"].values, \"-o\")\n",
    "plt.xlabel('pressure, kPa',fontsize=16)\n",
    "plt.ylabel('Thickness, mm',fontsize=16)\n",
    "plt.title('LumCathode layers thickness mm', fontsize=16)\n",
    "# plt.title('LumCathode layers thickness mm')"
   ]
  },
  {
   "cell_type": "markdown",
   "metadata": {},
   "source": [
    "# Fitting by exp"
   ]
  },
  {
   "cell_type": "code",
   "execution_count": 11,
   "metadata": {},
   "outputs": [],
   "source": [
    "from scipy.optimize import curve_fit\n",
    "# https://docs.scipy.org/doc/scipy/reference/generated/scipy.optimize.curve_fit.html\n",
    "def my_exp(x, a, b, c):\n",
    "    return a * np.exp(-b * x) + c"
   ]
  },
  {
   "cell_type": "code",
   "execution_count": 12,
   "metadata": {},
   "outputs": [],
   "source": [
    "xdata = df['pressure, kPa'].values\n",
    "ydata = df[\"Thickness, mm\"].values"
   ]
  },
  {
   "cell_type": "code",
   "execution_count": 13,
   "metadata": {},
   "outputs": [],
   "source": [
    "popt, pcov = curve_fit(my_exp, xdata, ydata)"
   ]
  },
  {
   "cell_type": "code",
   "execution_count": 14,
   "metadata": {},
   "outputs": [
    {
     "data": {
      "text/plain": [
       "array([[0.12222615, 0.02477075, 0.00344847],\n",
       "       [0.02477075, 0.00645316, 0.00153112],\n",
       "       [0.00344847, 0.00153112, 0.00116921]])"
      ]
     },
     "execution_count": 14,
     "metadata": {},
     "output_type": "execute_result"
    }
   ],
   "source": [
    "pcov"
   ]
  },
  {
   "cell_type": "code",
   "execution_count": 15,
   "metadata": {},
   "outputs": [
    {
     "data": {
      "text/plain": [
       "array([4.06514203, 0.84739172, 0.5696529 ])"
      ]
     },
     "execution_count": 15,
     "metadata": {},
     "output_type": "execute_result"
    }
   ],
   "source": [
    "popt"
   ]
  },
  {
   "cell_type": "code",
   "execution_count": 16,
   "metadata": {},
   "outputs": [
    {
     "data": {
      "text/plain": [
       "<matplotlib.legend.Legend at 0x7fd9e855f650>"
      ]
     },
     "execution_count": 16,
     "metadata": {},
     "output_type": "execute_result"
    },
    {
     "data": {
      "image/png": "[encoded data removed]",
      "text/plain": [
       "<Figure size 432x288 with 1 Axes>"
      ]
     },
     "metadata": {
      "needs_background": "light"
     },
     "output_type": "display_data"
    }
   ],
   "source": [
    "# plt.rc('text', usetex=True)\n",
    "# plt.rc('font', family='serif')\n",
    "\n",
    "plt.plot(xdata, ydata, 'o-', label='initial_data')\n",
    "plt.plot(xdata, my_exp(xdata, *popt), 'g--', label='fit: a=%5.3f, b=%5.3f, c=%5.3f' % tuple(popt))\n",
    "\n",
    "plt.title(\"a * exp(-b * x) + c\", fontsize=16)\n",
    "\n",
    "# plt.xscale('log')\n",
    "plt.grid(True)\n",
    "\n",
    "plt.xlabel('p, kPa')\n",
    "plt.ylabel('l, mm')\n",
    "plt.legend()"
   ]
  },
  {
   "cell_type": "markdown",
   "metadata": {},
   "source": [
    "# Test Exp"
   ]
  },
  {
   "cell_type": "code",
   "execution_count": 17,
   "metadata": {},
   "outputs": [
    {
     "name": "stderr",
     "output_type": "stream",
     "text": [
      "/home/irebri/anaconda3/lib/python3.7/site-packages/ipykernel_launcher.py:3: RuntimeWarning: invalid value encountered in log\n",
      "  This is separate from the ipykernel package so we can avoid doing imports until\n"
     ]
    },
    {
     "data": {
      "text/plain": [
       "<matplotlib.legend.Legend at 0x7fd9e84dcc50>"
      ]
     },
     "execution_count": 17,
     "metadata": {},
     "output_type": "execute_result"
    },
    {
     "data": {
      "image/png": "[encoded data removed]",
      "text/plain": [
       "<Figure size 432x288 with 1 Axes>"
      ]
     },
     "metadata": {
      "needs_background": "light"
     },
     "output_type": "display_data"
    }
   ],
   "source": [
    "# plt.rc('text', usetex=True)\n",
    "# plt.rc('font', family='serif')\n",
    "logy=np.log(ydata-popt[2])\n",
    "my_logy=np.log(my_exp(xdata, *popt) - popt[2])\n",
    "\n",
    "plt.plot(xdata, logy, 'o-', label='initial_data')\n",
    "plt.plot(xdata, my_logy, 'go-', label='fit: a=%5.3f, b=%5.3f, c=%5.3f' % tuple(popt))\n",
    "\n",
    "plt.title(\"a * exp(-b * x) + c\", fontsize=16)\n",
    "\n",
    "# plt.xscale('log')\n",
    "plt.grid(True)\n",
    "\n",
    "plt.xlabel('p, kPa')\n",
    "plt.ylabel('ln(l), ln(mm)')\n",
    "plt.legend()"
   ]
  },
  {
   "cell_type": "markdown",
   "metadata": {},
   "source": [
    "<br><br><br><br><br><br><br><br><br><br><br><br><br>\n",
    "# Let's make more scientifically strict"
   ]
  },
  {
   "cell_type": "code",
   "execution_count": 18,
   "metadata": {},
   "outputs": [
    {
     "data": {
      "text/html": [
       "<div>\n",
       "<style scoped>\n",
       "    .dataframe tbody tr th:only-of-type {\n",
       "        vertical-align: middle;\n",
       "    }\n",
       "\n",
       "    .dataframe tbody tr th {\n",
       "        vertical-align: top;\n",
       "    }\n",
       "\n",
       "    .dataframe thead tr th {\n",
       "        text-align: left;\n",
       "    }\n",
       "\n",
       "    .dataframe thead tr:last-of-type th {\n",
       "        text-align: right;\n",
       "    }\n",
       "</style>\n",
       "<table border=\"1\" class=\"dataframe\">\n",
       "  <thead>\n",
       "    <tr>\n",
       "      <th></th>\n",
       "      <th colspan=\"2\" halign=\"left\">Thickness, mm</th>\n",
       "    </tr>\n",
       "    <tr>\n",
       "      <th></th>\n",
       "      <th>mean</th>\n",
       "      <th>mean_error</th>\n",
       "    </tr>\n",
       "    <tr>\n",
       "      <th>pressure, kPa</th>\n",
       "      <th></th>\n",
       "      <th></th>\n",
       "    </tr>\n",
       "  </thead>\n",
       "  <tbody>\n",
       "    <tr>\n",
       "      <td>0.80</td>\n",
       "      <td>2.639556</td>\n",
       "      <td>0.195690</td>\n",
       "    </tr>\n",
       "    <tr>\n",
       "      <td>1.00</td>\n",
       "      <td>2.404647</td>\n",
       "      <td>0.000000</td>\n",
       "    </tr>\n",
       "    <tr>\n",
       "      <td>1.62</td>\n",
       "      <td>1.450314</td>\n",
       "      <td>0.038367</td>\n",
       "    </tr>\n",
       "    <tr>\n",
       "      <td>2.00</td>\n",
       "      <td>1.155375</td>\n",
       "      <td>0.077579</td>\n",
       "    </tr>\n",
       "    <tr>\n",
       "      <td>2.50</td>\n",
       "      <td>1.174683</td>\n",
       "      <td>0.108587</td>\n",
       "    </tr>\n",
       "    <tr>\n",
       "      <td>3.00</td>\n",
       "      <td>0.874715</td>\n",
       "      <td>0.066351</td>\n",
       "    </tr>\n",
       "    <tr>\n",
       "      <td>3.50</td>\n",
       "      <td>0.808364</td>\n",
       "      <td>0.000000</td>\n",
       "    </tr>\n",
       "    <tr>\n",
       "      <td>4.00</td>\n",
       "      <td>0.968621</td>\n",
       "      <td>0.000000</td>\n",
       "    </tr>\n",
       "    <tr>\n",
       "      <td>4.95</td>\n",
       "      <td>0.699746</td>\n",
       "      <td>0.002875</td>\n",
       "    </tr>\n",
       "    <tr>\n",
       "      <td>5.50</td>\n",
       "      <td>0.640149</td>\n",
       "      <td>0.004905</td>\n",
       "    </tr>\n",
       "    <tr>\n",
       "      <td>5.97</td>\n",
       "      <td>0.618178</td>\n",
       "      <td>0.000000</td>\n",
       "    </tr>\n",
       "    <tr>\n",
       "      <td>6.40</td>\n",
       "      <td>0.616318</td>\n",
       "      <td>0.019162</td>\n",
       "    </tr>\n",
       "    <tr>\n",
       "      <td>6.95</td>\n",
       "      <td>0.554719</td>\n",
       "      <td>0.003179</td>\n",
       "    </tr>\n",
       "    <tr>\n",
       "      <td>7.40</td>\n",
       "      <td>0.523723</td>\n",
       "      <td>0.000000</td>\n",
       "    </tr>\n",
       "    <tr>\n",
       "      <td>8.10</td>\n",
       "      <td>0.501985</td>\n",
       "      <td>0.000000</td>\n",
       "    </tr>\n",
       "    <tr>\n",
       "      <td>8.50</td>\n",
       "      <td>0.517177</td>\n",
       "      <td>0.001137</td>\n",
       "    </tr>\n",
       "    <tr>\n",
       "      <td>9.10</td>\n",
       "      <td>0.574267</td>\n",
       "      <td>0.000000</td>\n",
       "    </tr>\n",
       "    <tr>\n",
       "      <td>9.50</td>\n",
       "      <td>0.582379</td>\n",
       "      <td>0.000000</td>\n",
       "    </tr>\n",
       "    <tr>\n",
       "      <td>10.03</td>\n",
       "      <td>0.429710</td>\n",
       "      <td>0.000000</td>\n",
       "    </tr>\n",
       "  </tbody>\n",
       "</table>\n",
       "</div>"
      ],
      "text/plain": [
       "              Thickness, mm           \n",
       "                       mean mean_error\n",
       "pressure, kPa                         \n",
       "0.80               2.639556   0.195690\n",
       "1.00               2.404647   0.000000\n",
       "1.62               1.450314   0.038367\n",
       "2.00               1.155375   0.077579\n",
       "2.50               1.174683   0.108587\n",
       "3.00               0.874715   0.066351\n",
       "3.50               0.808364   0.000000\n",
       "4.00               0.968621   0.000000\n",
       "4.95               0.699746   0.002875\n",
       "5.50               0.640149   0.004905\n",
       "5.97               0.618178   0.000000\n",
       "6.40               0.616318   0.019162\n",
       "6.95               0.554719   0.003179\n",
       "7.40               0.523723   0.000000\n",
       "8.10               0.501985   0.000000\n",
       "8.50               0.517177   0.001137\n",
       "9.10               0.574267   0.000000\n",
       "9.50               0.582379   0.000000\n",
       "10.03              0.429710   0.000000"
      ]
     },
     "execution_count": 18,
     "metadata": {},
     "output_type": "execute_result"
    }
   ],
   "source": [
    "# https://stackoverflow.com/questions/54364920/adding-std-deviation-to-mean-of-pandas-groupby-object\n",
    "def mean_error(x):\n",
    "    return x.std() / np.sqrt(len(x))\n",
    "df1 = data.groupby('pressure, kPa').agg(['mean', mean_error]).fillna(0)\n",
    "df1\n"
   ]
  },
  {
   "cell_type": "code",
   "execution_count": 19,
   "metadata": {},
   "outputs": [
    {
     "data": {
      "text/html": [
       "<div>\n",
       "<style scoped>\n",
       "    .dataframe tbody tr th:only-of-type {\n",
       "        vertical-align: middle;\n",
       "    }\n",
       "\n",
       "    .dataframe tbody tr th {\n",
       "        vertical-align: top;\n",
       "    }\n",
       "\n",
       "    .dataframe thead th {\n",
       "        text-align: right;\n",
       "    }\n",
       "</style>\n",
       "<table border=\"1\" class=\"dataframe\">\n",
       "  <thead>\n",
       "    <tr style=\"text-align: right;\">\n",
       "      <th></th>\n",
       "      <th>pressure, kPa</th>\n",
       "      <th>Thickness, mm_mean</th>\n",
       "      <th>Thickness, mm_mean_error</th>\n",
       "    </tr>\n",
       "  </thead>\n",
       "  <tbody>\n",
       "    <tr>\n",
       "      <td>0</td>\n",
       "      <td>0.80</td>\n",
       "      <td>2.639556</td>\n",
       "      <td>0.195690</td>\n",
       "    </tr>\n",
       "    <tr>\n",
       "      <td>1</td>\n",
       "      <td>1.00</td>\n",
       "      <td>2.404647</td>\n",
       "      <td>0.000000</td>\n",
       "    </tr>\n",
       "    <tr>\n",
       "      <td>2</td>\n",
       "      <td>1.62</td>\n",
       "      <td>1.450314</td>\n",
       "      <td>0.038367</td>\n",
       "    </tr>\n",
       "    <tr>\n",
       "      <td>3</td>\n",
       "      <td>2.00</td>\n",
       "      <td>1.155375</td>\n",
       "      <td>0.077579</td>\n",
       "    </tr>\n",
       "    <tr>\n",
       "      <td>4</td>\n",
       "      <td>2.50</td>\n",
       "      <td>1.174683</td>\n",
       "      <td>0.108587</td>\n",
       "    </tr>\n",
       "    <tr>\n",
       "      <td>5</td>\n",
       "      <td>3.00</td>\n",
       "      <td>0.874715</td>\n",
       "      <td>0.066351</td>\n",
       "    </tr>\n",
       "    <tr>\n",
       "      <td>6</td>\n",
       "      <td>3.50</td>\n",
       "      <td>0.808364</td>\n",
       "      <td>0.000000</td>\n",
       "    </tr>\n",
       "    <tr>\n",
       "      <td>7</td>\n",
       "      <td>4.00</td>\n",
       "      <td>0.968621</td>\n",
       "      <td>0.000000</td>\n",
       "    </tr>\n",
       "    <tr>\n",
       "      <td>8</td>\n",
       "      <td>4.95</td>\n",
       "      <td>0.699746</td>\n",
       "      <td>0.002875</td>\n",
       "    </tr>\n",
       "    <tr>\n",
       "      <td>9</td>\n",
       "      <td>5.50</td>\n",
       "      <td>0.640149</td>\n",
       "      <td>0.004905</td>\n",
       "    </tr>\n",
       "    <tr>\n",
       "      <td>10</td>\n",
       "      <td>5.97</td>\n",
       "      <td>0.618178</td>\n",
       "      <td>0.000000</td>\n",
       "    </tr>\n",
       "    <tr>\n",
       "      <td>11</td>\n",
       "      <td>6.40</td>\n",
       "      <td>0.616318</td>\n",
       "      <td>0.019162</td>\n",
       "    </tr>\n",
       "    <tr>\n",
       "      <td>12</td>\n",
       "      <td>6.95</td>\n",
       "      <td>0.554719</td>\n",
       "      <td>0.003179</td>\n",
       "    </tr>\n",
       "    <tr>\n",
       "      <td>13</td>\n",
       "      <td>7.40</td>\n",
       "      <td>0.523723</td>\n",
       "      <td>0.000000</td>\n",
       "    </tr>\n",
       "    <tr>\n",
       "      <td>14</td>\n",
       "      <td>8.10</td>\n",
       "      <td>0.501985</td>\n",
       "      <td>0.000000</td>\n",
       "    </tr>\n",
       "    <tr>\n",
       "      <td>15</td>\n",
       "      <td>8.50</td>\n",
       "      <td>0.517177</td>\n",
       "      <td>0.001137</td>\n",
       "    </tr>\n",
       "    <tr>\n",
       "      <td>16</td>\n",
       "      <td>9.10</td>\n",
       "      <td>0.574267</td>\n",
       "      <td>0.000000</td>\n",
       "    </tr>\n",
       "    <tr>\n",
       "      <td>17</td>\n",
       "      <td>9.50</td>\n",
       "      <td>0.582379</td>\n",
       "      <td>0.000000</td>\n",
       "    </tr>\n",
       "    <tr>\n",
       "      <td>18</td>\n",
       "      <td>10.03</td>\n",
       "      <td>0.429710</td>\n",
       "      <td>0.000000</td>\n",
       "    </tr>\n",
       "  </tbody>\n",
       "</table>\n",
       "</div>"
      ],
      "text/plain": [
       "    pressure, kPa  Thickness, mm_mean  Thickness, mm_mean_error\n",
       "0            0.80            2.639556                  0.195690\n",
       "1            1.00            2.404647                  0.000000\n",
       "2            1.62            1.450314                  0.038367\n",
       "3            2.00            1.155375                  0.077579\n",
       "4            2.50            1.174683                  0.108587\n",
       "5            3.00            0.874715                  0.066351\n",
       "6            3.50            0.808364                  0.000000\n",
       "7            4.00            0.968621                  0.000000\n",
       "8            4.95            0.699746                  0.002875\n",
       "9            5.50            0.640149                  0.004905\n",
       "10           5.97            0.618178                  0.000000\n",
       "11           6.40            0.616318                  0.019162\n",
       "12           6.95            0.554719                  0.003179\n",
       "13           7.40            0.523723                  0.000000\n",
       "14           8.10            0.501985                  0.000000\n",
       "15           8.50            0.517177                  0.001137\n",
       "16           9.10            0.574267                  0.000000\n",
       "17           9.50            0.582379                  0.000000\n",
       "18          10.03            0.429710                  0.000000"
      ]
     },
     "execution_count": 19,
     "metadata": {},
     "output_type": "execute_result"
    }
   ],
   "source": [
    "df1.columns = df1.columns.map('_'.join)\n",
    "df1 = df1.reset_index()\n",
    "df1"
   ]
  },
  {
   "cell_type": "code",
   "execution_count": 26,
   "metadata": {},
   "outputs": [
    {
     "data": {
      "text/plain": [
       "Text(0.5, 1.0, 'LumCathode layers thickness mm')"
      ]
     },
     "execution_count": 26,
     "metadata": {},
     "output_type": "execute_result"
    },
    {
     "data": {
      "image/png": "[encoded data removed]",
      "text/plain": [
       "<Figure size 1080x720 with 1 Axes>"
      ]
     },
     "metadata": {
      "needs_background": "light"
     },
     "output_type": "display_data"
    }
   ],
   "source": [
    "plt.subplots(figsize=(15,10))\n",
    "# plt.title('LumCathode layers thickness mm')\n",
    "\n",
    "xdata = df1['pressure, kPa'].values\n",
    "ydata = df1[\"Thickness, mm_mean\"].values\n",
    "my_error = df1[\"Thickness, mm_mean_error\"].values\n",
    "\n",
    "plt.errorbar(xdata, ydata, yerr = my_error,capsize=3, elinewidth=2, fmt=\"g-o\", ecolor=\"blue\")\n",
    "\n",
    "\n",
    "plt.xlabel('pressure, kPa',fontsize=16)\n",
    "plt.ylabel('Thickness, mm',fontsize=16)\n",
    "plt.title('LumCathode layers thickness mm', fontsize=16)\n",
    "# plt.title('LumCathode layers thickness mm')"
   ]
  },
  {
   "cell_type": "code",
   "execution_count": 21,
   "metadata": {},
   "outputs": [
    {
     "data": {
      "text/plain": [
       "19"
      ]
     },
     "execution_count": 21,
     "metadata": {},
     "output_type": "execute_result"
    }
   ],
   "source": [
    "len(ydata)"
   ]
  },
  {
   "cell_type": "code",
   "execution_count": 28,
   "metadata": {},
   "outputs": [
    {
     "data": {
      "text/plain": [
       "<matplotlib.legend.Legend at 0x7fd9e7fc9310>"
      ]
     },
     "execution_count": 28,
     "metadata": {},
     "output_type": "execute_result"
    },
    {
     "data": {
      "image/png": "[encoded data removed]",
      "text/plain": [
       "<Figure size 432x288 with 1 Axes>"
      ]
     },
     "metadata": {
      "needs_background": "light"
     },
     "output_type": "display_data"
    }
   ],
   "source": [
    "plt.errorbar(x=xdata, y=ydata, yerr = my_error, fmt='o-', label='initial_data', ecolor=\"blue\",capsize=3, elinewidth=2)\n",
    "plt.errorbar(x=xdata, y=my_exp(xdata, *popt), fmt='g--', label='fit: a=%5.3f, b=%5.3f, c=%5.3f' % tuple(popt))\n",
    "\n",
    "plt.title(\"a * exp(-b * x) + c\", fontsize=16)\n",
    "\n",
    "# plt.xscale('log')\n",
    "plt.grid(True)\n",
    "\n",
    "plt.xlabel('p, kPa')\n",
    "plt.ylabel('l, mm')\n",
    "plt.legend()"
   ]
  },
  {
   "cell_type": "code",
   "execution_count": null,
   "metadata": {},
   "outputs": [],
   "source": []
  }
 ],
 "metadata": {
  "kernelspec": {
   "display_name": "Python 3",
   "language": "python",
   "name": "python3"
  },
  "language_info": {
   "codemirror_mode": {
    "name": "ipython",
    "version": 3
   },
   "file_extension": ".py",
   "mimetype": "text/x-python",
   "name": "python",
   "nbconvert_exporter": "python",
   "pygments_lexer": "ipython3",
   "version": "3.7.4"
  }
 },
 "nbformat": 4,
 "nbformat_minor": 2
}
